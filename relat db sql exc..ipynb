{
    "cells": [
        {
            "cell_type": "code",
            "execution_count": null,
            "metadata": {
                "collapsed": true
            },
            "outputs": [],
            "source": "Query 1A: Select the names and job start dates of all employees who work for\nthe department number 5.\n[Hint: Use the Inner join operation with the EMPLOYEES table as the left table and\nthe JOB_HISTORY table as the right table.]\nQuery 1B: Select the names, job start dates, and job titles of all employees\nwho work for the department number 5.\n[Hint: Perform an INNER JOIN with 3 tables \u2013 EMPLOYEES, JOB_HISTORY,\nJOBS]\nQuery 2A: Perform https://dataplatform.cloud.ibm.com/data/jupyter2/runtimeenv2/v1/wdpx/service/notebook/conda2py37a830784013e34e8abfbcfe19669b6dc4/dsxjpy/Azesk-1Ra4vOD65b5rQChg:FUpia7s09fV3mTY4m9XJbpkUnYJHkonjnC5FdkurgnIYVMoVJ8dxoIHrGcvLkdxwwy0VvEc/container/notebooks/6854cc45-a21d-4352-bb73-31d333943bd5?api=v2&project=a8307840-13e3-4e8a-bfbc-fe19669b6dc4#a Left Outer Join on the EMPLOYEES and DEPARTMENT\ntables and select employee id, last name, department id and department name\nfor all employees\n[Hint: Use the Left Outer Join operation with the EMPLOYEES table as the left table\nand the DEPARTMENTS table as the right table.]\nQuery 2B: Re-write the query for 2A to limit the result set to include only the\nrows for employees born before 1980.\n[Hint: use a WHERE clause. Could also use an INNER JOIN]\nQuery 2C: Re-write the query for 2A to have the result set include all the\nemployees but department names for only the employees who were born\nbefore 1980.\n[Hint: use an AND in the INNER JOIN ON clause]\nCourse:\tDatabases\tand\tSQL\tfor\tData\tScience\t- LAB:\tJOINs\nCopyright\t\u00a92018\tIBM\tCorporation Page\t3 of\t4\nQuery 3A: Perform a Full Join on the EMPLOYEES and DEPARTMENT tables\nand select the First name, Last name and Department name of all employees.\n[Hint: Use the Full Outer Join operation with the EMPLOYEES table as the left table\nand the DEPARTMENTS table as the right table.]\nQuery 3B: Re-write Query 3A to have the result set include all employee\nnames but department id and department names only for male employees.\n[Hint: Add an AND in Query 3A to filter on male employees in the ON clause. Can\nalso use Left Outer Join] \n--- Query1A ---\nselect E.F_NAME,E.L_NAME, JH.START_DATE \n\tfrom EMPLOYEES as E \n\tINNER JOIN JOB_HISTORY as JH on E.EMP_ID=JH.EMPL_ID \n\twhere E.DEP_ID ='5'\n;\t\n--- Query1B ---\t\nselect E.F_NAME,E.L_NAME, JH.START_DATE, J.JOB_TITLE \n\tfrom EMPLOYEES as E \n\tINNER JOIN JOB_HISTORY as JH on E.EMP_ID=JH.EMPL_ID \n\tINNER JOIN JOBS as J on E.JOB_ID=J.JOB_IDENT\n\twhere E.DEP_ID ='5'\n;\n--- Query 2A ---\nselect E.EMP_ID,E.L_NAME,E.DEP_ID,D.DEP_NAME\n\tfrom EMPLOYEES AS E \n\tLEFT OUTER JOIN DEPARTMENTS AS D ON E.DEP_ID=D.DEPT_ID_DEP\n;\t\n--- Query 2B ---\nselect E.EMP_ID,E.L_NAME,E.DEP_ID,D.DEP_NAME\n\tfrom EMPLOYEES AS E \n\tLEFT OUTER JOIN DEPARTMENTS AS D ON E.DEP_ID=D.DEPT_ID_DEP \n\twhere YEAR(E.B_DATE) < 1980\n;\n--- alt Query 2B ---\nselect E.EMP_ID,E.L_NAME,E.DEP_ID,D.DEP_NAME\n\tfrom EMPLOYEES AS E \n\tINNER JOIN DEPARTMENTS AS D ON E.DEP_ID=D.DEPT_ID_DEP \n\twhere YEAR(E.B_DATE) < 1980\n;\n--- Query 2C ---\nselect E.EMP_ID,E.L_NAME,E.DEP_ID,D.DEP_NAME\n\tfrom EMPLOYEES AS E \n\tLEFT OUTER JOIN DEPARTMENTS AS D ON E.DEP_ID=D.DEPT_ID_DEP \n\tAND YEAR(E.B_DATE) < 1980\n;\n--- Query 3A ---\nselect E.F_NAME,E.L_NAME,D.DEP_NAME\n\tfrom EMPLOYEES AS E \n\tFULL OUTER JOIN DEPARTMENTS AS D ON E.DEP_ID=D.DEPT_ID_DEP\n;\n--- Query 3B ---\nselect E.F_NAME,E.L_NAME,D.DEPT_ID_DEP, D.DEP_NAME\n\tfrom EMPLOYEES AS E \n\tFULL OUTER JOIN DEPARTMENTS AS D ON E.DEP_ID=D.DEPT_ID_DEP AND E.SEX = 'M'\n;\n--- alt Query 3B ---\nselect E.F_NAME,E.L_NAME,D.DEPT_ID_DEP, D.DEP_NAME\n\tfrom EMPLOYEES AS E \n\tLEFT OUTER JOIN DEPARTMENTS AS D ON E.DEP_ID=D.DEPT_ID_DEP AND E.SEX = 'M'\n;\n\n\n\n--- Query1A ---\nselect E.F_NAME,E.L_NAME, JH.START_DATE \n\tfrom EMPLOYEES as E \n\tINNER JOIN JOB_HISTORY as JH on E.EMP_ID=JH.EMPL_ID \n\twhere E.DEP_ID ='5'\n;\t\n--- Query1B ---\t\nselect E.F_NAME,E.L_NAME, JH.START_DATE, J.JOB_TITLE \n\tfrom EMPLOYEES as E \n\tINNER JOIN JOB_HISTORY as JH on E.EMP_ID=JH.EMPL_ID \n\tINNER JOIN JOBS as J on E.JOB_ID=J.JOB_IDENT\n\twhere E.DEP_ID ='5'\n;\n--- Query 2A ---\nselect E.EMP_ID,E.L_NAME,E.DEP_ID,D.DEP_NAME\n\tfrom EMPLOYEES AS E \n\tLEFT OUTER JOIN DEPARTMENTS AS D ON E.DEP_ID=D.DEPT_ID_DEP\n;\t\n--- Query 2B ---\nselect E.EMP_ID,E.L_NAME,E.DEP_ID,D.DEP_NAME\n\tfrom EMPLOYEES AS E \n\tLEFT OUTER JOIN DEPARTMENTS AS D ON E.DEP_ID=D.DEPT_ID_DEP \n\twhere YEAR(E.B_DATE) < 1980\n;\n--- alt Query 2B ---\nselect E.EMP_ID,E.L_NAME,E.DEP_ID,D.DEP_NAME\n\tfrom EMPLOYEES AS E \n\tINNER JOIN DEPARTMENTS AS D ON E.DEP_ID=D.DEPT_ID_DEP \n\twhere YEAR(E.B_DATE) < 1980\n;\n--- Query 2C ---\nselect E.EMP_ID,E.L_NAME,E.DEP_ID,D.DEP_NAME\n\tfrom EMPLOYEES AS E \n\tLEFT OUTER JOIN DEPARTMENTS AS D ON E.DEP_ID=D.DEPT_ID_DEP \n\tAND YEAR(E.B_DATE) < 1980\n;\n--- Query 3A ---\nselect E.F_NAME,E.L_NAME,D.DEP_NAME\n\tfrom EMPLOYEES AS E \n\tFULL OUTER JOIN DEPARTMENTS AS D ON E.DEP_ID=D.DEPT_ID_DEP\n;\n--- Query 3B ---\nselect E.F_NAME,E.L_NAME,D.DEPT_ID_DEP, D.DEP_NAME\n\tfrom EMPLOYEES AS E \n\tFULL OUTER JOIN DEPARTMENTS AS D ON E.DEP_ID=D.DEPT_ID_DEP AND E.SEX = 'M'\n;\n--- alt Query 3B ---\nselect E.F_NAME,E.L_NAME,D.DEPT_ID_DEP, D.DEP_NAME\n\tfrom EMPLOYEES AS E \n\tLEFT OUTER JOIN DEPARTMENTS AS D ON E.DEP_ID=D.DEPT_ID_DEP AND E.SEX = 'M'\n;"
        }
    ],
    "metadata": {
        "kernelspec": {
            "display_name": "Python 3.7",
            "language": "python",
            "name": "python3"
        },
        "language_info": {
            "codemirror_mode": {
                "name": "ipython",
                "version": 3
            },
            "file_extension": ".py",
            "mimetype": "text/x-python",
            "name": "python",
            "nbconvert_exporter": "python",
            "pygments_lexer": "ipython3",
            "version": "3.7.9"
        }
    },
    "nbformat": 4,
    "nbformat_minor": 1
}